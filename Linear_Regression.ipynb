{
  "nbformat": 4,
  "nbformat_minor": 0,
  "metadata": {
    "colab": {
      "name": "Linear Regression.ipynb",
      "provenance": [],
      "authorship_tag": "ABX9TyN6dJFzoEd6OupZO5tg52wg",
      "include_colab_link": true
    },
    "kernelspec": {
      "name": "python3",
      "display_name": "Python 3"
    }
  },
  "cells": [
    {
      "cell_type": "markdown",
      "metadata": {
        "id": "view-in-github",
        "colab_type": "text"
      },
      "source": [
        "<a href=\"https://colab.research.google.com/github/iharshidas/The-Sparks-Foundation-Internship/blob/main/Linear_Regression.ipynb\" target=\"_parent\"><img src=\"https://colab.research.google.com/assets/colab-badge.svg\" alt=\"Open In Colab\"/></a>"
      ]
    },
    {
      "cell_type": "markdown",
      "metadata": {
        "id": "2CaG3rSCZE8L"
      },
      "source": [
        "### **Prediction using Supervised ML**\r\n",
        "**By:** Harshita Das"
      ]
    },
    {
      "cell_type": "code",
      "metadata": {
        "id": "1OUrQmDmpRmt"
      },
      "source": [
        "# Importing the required libraries\n",
        "import pandas as pd\n",
        "import matplotlib.pyplot as plt\n",
        "import numpy as np\n",
        "\n",
        "# Importing the modelling libraries\n",
        "from sklearn.linear_model import LinearRegression  \n",
        "from sklearn.model_selection import train_test_split\n",
        "from sklearn import metrics"
      ],
      "execution_count": 1,
      "outputs": []
    },
    {
      "cell_type": "code",
      "metadata": {
        "colab": {
          "base_uri": "https://localhost:8080/"
        },
        "id": "OXS7qC6YqqzC",
        "outputId": "cf10caa9-f84a-4ac1-ccbc-c0849347fa91"
      },
      "source": [
        "# Reading the data from a url link into a dataframe\n",
        "link = \"http://bit.ly/w-data\"\n",
        "student_df = pd.read_csv(link)\n",
        "print(student_df.head())\n",
        "print(\"Total (rows,columns) = \", student_df.shape)"
      ],
      "execution_count": 2,
      "outputs": [
        {
          "output_type": "stream",
          "text": [
            "   Hours  Scores\n",
            "0    2.5      21\n",
            "1    5.1      47\n",
            "2    3.2      27\n",
            "3    8.5      75\n",
            "4    3.5      30\n",
            "Total (rows,columns) =  (25, 2)\n"
          ],
          "name": "stdout"
        }
      ]
    },
    {
      "cell_type": "code",
      "metadata": {
        "id": "zP7Bk6qKsB8z"
      },
      "source": [
        "# Dividing data into target and features\n",
        "X=student_df.iloc[:,:-1].values\n",
        "y=student_df.iloc[:,1].values\n",
        "#print(X)"
      ],
      "execution_count": 3,
      "outputs": []
    },
    {
      "cell_type": "code",
      "metadata": {
        "colab": {
          "base_uri": "https://localhost:8080/",
          "height": 279
        },
        "id": "WcfHx42mGjzr",
        "outputId": "fb6e34d5-5e93-4ddc-a2bd-e6aac3170931"
      },
      "source": [
        "# Plotting graph between x and y to know the nature of plot\n",
        "plt.scatter(x=student_df['Scores'],y=student_df['Hours'])\n",
        "plt.xlabel(\"Scores\")\n",
        "plt.ylabel(\"Hours\")\n",
        "plt.show()"
      ],
      "execution_count": 4,
      "outputs": [
        {
          "output_type": "display_data",
          "data": {
            "image/png": "[encoded data removed]",
            "text/plain": [
              "<Figure size 432x288 with 1 Axes>"
            ]
          },
          "metadata": {
            "tags": [],
            "needs_background": "light"
          }
        }
      ]
    },
    {
      "cell_type": "code",
      "metadata": {
        "id": "D8W4c611rkMG"
      },
      "source": [
        "# Splitting the data into training and testing set\n",
        "X_train, X_test, y_train, y_test=train_test_split(X,y,test_size=0.2,random_state=21)"
      ],
      "execution_count": 5,
      "outputs": []
    },
    {
      "cell_type": "code",
      "metadata": {
        "colab": {
          "base_uri": "https://localhost:8080/"
        },
        "id": "3pkg_lfGtKY1",
        "outputId": "8ea4482e-9a9a-4bde-bc04-3c2c398268c1"
      },
      "source": [
        "# Modelling the data\n",
        "linreg = LinearRegression()  \n",
        "linreg.fit(X_train, y_train) "
      ],
      "execution_count": 6,
      "outputs": [
        {
          "output_type": "execute_result",
          "data": {
            "text/plain": [
              "LinearRegression(copy_X=True, fit_intercept=True, n_jobs=None, normalize=False)"
            ]
          },
          "metadata": {
            "tags": []
          },
          "execution_count": 6
        }
      ]
    },
    {
      "cell_type": "code",
      "metadata": {
        "id": "j60-VKdutxBd"
      },
      "source": [
        "# Predicting the test set\n",
        "y_pred=linreg.predict(X_test)"
      ],
      "execution_count": 7,
      "outputs": []
    },
    {
      "cell_type": "code",
      "metadata": {
        "colab": {
          "base_uri": "https://localhost:8080/"
        },
        "id": "-4WHbs9jMM9s",
        "outputId": "a8ac6722-0de1-4579-c07a-e8e1b63db6c1"
      },
      "source": [
        "# Comparing actual v/s predicted scores\n",
        "compare_df=pd.DataFrame({'Actual score':y_test, 'Predicted score':y_pred})\n",
        "print(compare_df)"
      ],
      "execution_count": 8,
      "outputs": [
        {
          "output_type": "stream",
          "text": [
            "   Actual score  Predicted score\n",
            "0            47        51.658138\n",
            "1            67        61.567717\n",
            "2            42        33.820896\n",
            "3            20        15.983655\n",
            "4            60        55.621969\n"
          ],
          "name": "stdout"
        }
      ]
    },
    {
      "cell_type": "code",
      "metadata": {
        "colab": {
          "base_uri": "https://localhost:8080/"
        },
        "id": "NDAf42KoMoiq",
        "outputId": "46460483-8dbb-4014-a802-4493111c74f0"
      },
      "source": [
        "# Evaluating the model using mean squared error\n",
        "print(\"Root Mean Squared Error: \", np.sqrt(metrics.mean_squared_error(y_test, y_pred)))"
      ],
      "execution_count": 9,
      "outputs": [
        {
          "output_type": "stream",
          "text": [
            "Root Mean Squared Error:  5.539022808768505\n"
          ],
          "name": "stdout"
        }
      ]
    },
    {
      "cell_type": "code",
      "metadata": {
        "colab": {
          "base_uri": "https://localhost:8080/"
        },
        "id": "tw05fHtjfz7f",
        "outputId": "5aef08f0-cd43-43e1-cfa6-c28c50e87754"
      },
      "source": [
        "# Predicting the target by giving new value\n",
        "y_new = [[9.25]]\n",
        "new_x = linreg.predict(y_new)\n",
        "print(\"Hours = \", y_new)\n",
        "print(\"Predicted Score = \", new_x)"
      ],
      "execution_count": 10,
      "outputs": [
        {
          "output_type": "stream",
          "text": [
            "Hours =  [[9.25]]\n",
            "Predicted Score =  [92.78288921]\n"
          ],
          "name": "stdout"
        }
      ]
    }
  ]
}