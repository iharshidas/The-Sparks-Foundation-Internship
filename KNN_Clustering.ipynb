{
  "nbformat": 4,
  "nbformat_minor": 0,
  "metadata": {
    "colab": {
      "name": "KNN Clustering.ipynb",
      "provenance": [],
      "authorship_tag": "ABX9TyOhz8M/Bqx6h024ZET40iBM",
      "include_colab_link": true
    },
    "kernelspec": {
      "name": "python3",
      "display_name": "Python 3"
    }
  },
  "cells": [
    {
      "cell_type": "markdown",
      "metadata": {
        "id": "view-in-github",
        "colab_type": "text"
      },
      "source": [
        "<a href=\"https://colab.research.google.com/github/iharshidas/The-Sparks-Foundation-Internship/blob/main/KNN_Clustering.ipynb\" target=\"_parent\"><img src=\"https://colab.research.google.com/assets/colab-badge.svg\" alt=\"Open In Colab\"/></a>"
      ]
    },
    {
      "cell_type": "markdown",
      "metadata": {
        "id": "8n_g_-_h_lXT"
      },
      "source": [
        "### Prediction using Unsupervised ML\r\n",
        "**By:** Harshita Das"
      ]
    },
    {
      "cell_type": "code",
      "metadata": {
        "id": "bhrrgzAMlwxX"
      },
      "source": [
        "# Importing the required libraries\r\n",
        "import numpy as np\r\n",
        "import matplotlib.pyplot as plt\r\n",
        "import pandas as pd\r\n",
        "import seaborn as sns\r\n",
        "from sklearn import datasets\r\n",
        "\r\n",
        "# Importing the modelling libraries\r\n",
        "from sklearn.cluster import KMeans\r\n",
        "from sklearn.metrics import silhouette_score"
      ],
      "execution_count": 48,
      "outputs": []
    },
    {
      "cell_type": "code",
      "metadata": {
        "colab": {
          "base_uri": "https://localhost:8080/",
          "height": 213
        },
        "id": "NAYHarVKtWhw",
        "outputId": "2a7e527c-105f-4920-830e-8193acb0a7c4"
      },
      "source": [
        "# Loading the iris dataset from \r\n",
        "iris = datasets.load_iris()\r\n",
        "iris_df = pd.DataFrame(iris.data, columns = iris.feature_names)\r\n",
        "print(iris_df.shape)\r\n",
        "iris_df.head()"
      ],
      "execution_count": 49,
      "outputs": [
        {
          "output_type": "stream",
          "text": [
            "(150, 4)\n"
          ],
          "name": "stdout"
        },
        {
          "output_type": "execute_result",
          "data": {
            "text/html": [
              "<div>\n",
              "<style scoped>\n",
              "    .dataframe tbody tr th:only-of-type {\n",
              "        vertical-align: middle;\n",
              "    }\n",
              "\n",
              "    .dataframe tbody tr th {\n",
              "        vertical-align: top;\n",
              "    }\n",
              "\n",
              "    .dataframe thead th {\n",
              "        text-align: right;\n",
              "    }\n",
              "</style>\n",
              "<table border=\"1\" class=\"dataframe\">\n",
              "  <thead>\n",
              "    <tr style=\"text-align: right;\">\n",
              "      <th></th>\n",
              "      <th>sepal length (cm)</th>\n",
              "      <th>sepal width (cm)</th>\n",
              "      <th>petal length (cm)</th>\n",
              "      <th>petal width (cm)</th>\n",
              "    </tr>\n",
              "  </thead>\n",
              "  <tbody>\n",
              "    <tr>\n",
              "      <th>0</th>\n",
              "      <td>5.1</td>\n",
              "      <td>3.5</td>\n",
              "      <td>1.4</td>\n",
              "      <td>0.2</td>\n",
              "    </tr>\n",
              "    <tr>\n",
              "      <th>1</th>\n",
              "      <td>4.9</td>\n",
              "      <td>3.0</td>\n",
              "      <td>1.4</td>\n",
              "      <td>0.2</td>\n",
              "    </tr>\n",
              "    <tr>\n",
              "      <th>2</th>\n",
              "      <td>4.7</td>\n",
              "      <td>3.2</td>\n",
              "      <td>1.3</td>\n",
              "      <td>0.2</td>\n",
              "    </tr>\n",
              "    <tr>\n",
              "      <th>3</th>\n",
              "      <td>4.6</td>\n",
              "      <td>3.1</td>\n",
              "      <td>1.5</td>\n",
              "      <td>0.2</td>\n",
              "    </tr>\n",
              "    <tr>\n",
              "      <th>4</th>\n",
              "      <td>5.0</td>\n",
              "      <td>3.6</td>\n",
              "      <td>1.4</td>\n",
              "      <td>0.2</td>\n",
              "    </tr>\n",
              "  </tbody>\n",
              "</table>\n",
              "</div>"
            ],
            "text/plain": [
              "   sepal length (cm)  sepal width (cm)  petal length (cm)  petal width (cm)\n",
              "0                5.1               3.5                1.4               0.2\n",
              "1                4.9               3.0                1.4               0.2\n",
              "2                4.7               3.2                1.3               0.2\n",
              "3                4.6               3.1                1.5               0.2\n",
              "4                5.0               3.6                1.4               0.2"
            ]
          },
          "metadata": {
            "tags": []
          },
          "execution_count": 49
        }
      ]
    },
    {
      "cell_type": "code",
      "metadata": {
        "id": "55-Fcv8OygGh"
      },
      "source": [
        "# Implementing the elbow method to find the optimum number of clusters\r\n",
        "x = iris_df.iloc[:, [0, 1, 2, 3]].values\r\n",
        "\r\n",
        "inertia=[]\r\n",
        "for i in range(1,11):\r\n",
        "  kmeans=KMeans(n_clusters=i, init='k-means++', max_iter=300, n_init=10, random_state=0)\r\n",
        "  kmeans.fit(x)\r\n",
        "  inertia.append(kmeans.inertia_)"
      ],
      "execution_count": 50,
      "outputs": []
    },
    {
      "cell_type": "code",
      "metadata": {
        "colab": {
          "base_uri": "https://localhost:8080/",
          "height": 295
        },
        "id": "3aOF92-Qzgpy",
        "outputId": "87905f8a-4805-40dc-8b95-45b1b9367506"
      },
      "source": [
        "# Plotting the elbow graph\r\n",
        "plt.plot(range(1,11), inertia)\r\n",
        "plt.title('The Elbow Method')\r\n",
        "plt.xlabel('Number of clusters')\r\n",
        "plt.ylabel('Inertia')\r\n",
        "plt.show()"
      ],
      "execution_count": 51,
      "outputs": [
        {
          "output_type": "display_data",
          "data": {
            "image/png": "[encoded data removed]",
            "text/plain": [
              "<Figure size 432x288 with 1 Axes>"
            ]
          },
          "metadata": {
            "tags": [],
            "needs_background": "light"
          }
        }
      ]
    },
    {
      "cell_type": "markdown",
      "metadata": {
        "id": "wMY-6u71z4vD"
      },
      "source": [
        "From the above graph, we choose the cluster value(x-axis) where the decrease in inertia value becomes constant.  \r\n",
        "Here, the graph becomes constant after x=3  \r\n",
        "Hence, the number of clusters will be 3"
      ]
    },
    {
      "cell_type": "code",
      "metadata": {
        "id": "bYxa84ta2yNV"
      },
      "source": [
        "# KMeans model for number of cluster=3\r\n",
        "kmeans=KMeans(n_clusters=3, init='k-means++')\r\n",
        "y_kmeans=kmeans.fit_predict(x)"
      ],
      "execution_count": 52,
      "outputs": []
    },
    {
      "cell_type": "code",
      "metadata": {
        "colab": {
          "base_uri": "https://localhost:8080/",
          "height": 281
        },
        "id": "w-KfXCdh3F6j",
        "outputId": "9b7ef4ba-7b32-419f-b94b-b8a90a3b8e69"
      },
      "source": [
        "# Visualizing the clusters\r\n",
        "plt.scatter(x[y_kmeans==0,0], x[y_kmeans==0,1], s=50, c='red', label='Iris Setosa')\r\n",
        "plt.scatter(x[y_kmeans==1,0], x[y_kmeans==1,1], s=50, c='blue', label='Iris Versicolour')\r\n",
        "plt.scatter(x[y_kmeans==2,0], x[y_kmeans==2,1], s=50, c='green', label='Iris Virginica')\r\n",
        "plt.scatter(kmeans.cluster_centers_[:,0], kmeans.cluster_centers_[:,1], s=90, c='yellow', label='Centroid')\r\n",
        "plt.title('KMeans Clusters')\r\n",
        "plt.legend()\r\n",
        "plt.show()"
      ],
      "execution_count": 53,
      "outputs": [
        {
          "output_type": "display_data",
          "data": {
            "image/png": "[encoded data removed]",
            "text/plain": [
              "<Figure size 432x288 with 1 Axes>"
            ]
          },
          "metadata": {
            "tags": [],
            "needs_background": "light"
          }
        }
      ]
    },
    {
      "cell_type": "code",
      "metadata": {
        "colab": {
          "base_uri": "https://localhost:8080/",
          "height": 353
        },
        "id": "GrrRkMFg6MSR",
        "outputId": "4cadb22d-c096-4fd8-df8a-e56cdf7ecfc9"
      },
      "source": [
        "# Counting number of iris of each species\r\n",
        "species=['Iris-setosa', 'Iris-versicolour','Iris-virginica']\r\n",
        "species_=[]\r\n",
        "for i in y_kmeans:\r\n",
        "    species_.append(species[i])\r\n",
        "iris_df['Predicted_Species']=species_\r\n",
        "sns.countplot(iris_df['Predicted_Species'])"
      ],
      "execution_count": 54,
      "outputs": [
        {
          "output_type": "stream",
          "text": [
            "/usr/local/lib/python3.6/dist-packages/seaborn/_decorators.py:43: FutureWarning: Pass the following variable as a keyword arg: x. From version 0.12, the only valid positional argument will be `data`, and passing other arguments without an explicit keyword will result in an error or misinterpretation.\n",
            "  FutureWarning\n"
          ],
          "name": "stderr"
        },
        {
          "output_type": "execute_result",
          "data": {
            "text/plain": [
              "<matplotlib.axes._subplots.AxesSubplot at 0x7fcb8f458240>"
            ]
          },
          "metadata": {
            "tags": []
          },
          "execution_count": 54
        },
        {
          "output_type": "display_data",
          "data": {
            "image/png": "[encoded data removed]",
            "text/plain": [
              "<Figure size 432x288 with 1 Axes>"
            ]
          },
          "metadata": {
            "tags": [],
            "needs_background": "light"
          }
        }
      ]
    }
  ]
}